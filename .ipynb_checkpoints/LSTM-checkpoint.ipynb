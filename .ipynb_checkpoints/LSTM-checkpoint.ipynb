{
 "cells": [
  {
   "cell_type": "code",
   "execution_count": 8,
   "metadata": {},
   "outputs": [
    {
     "name": "stderr",
     "output_type": "stream",
     "text": [
      "Using TensorFlow backend.\n"
     ]
    }
   ],
   "source": [
    "import numpy\n",
    "from keras.models import Sequential\n",
    "from keras.layers import Dense\n",
    "from keras.layers import Dropout\n",
    "from keras.layers import LSTM\n",
    "from keras.callbacks import ModelCheckpoint\n",
    "from keras.utils import np_utils\n"
   ]
  },
  {
   "cell_type": "code",
   "execution_count": 1,
   "metadata": {},
   "outputs": [],
   "source": [
    "...\n",
    "# load ascii text and covert to lowercase\n",
    "filename = \"27-9-A1.txt\"\n",
    "raw_text = open(filename, 'r', encoding='utf-8').read()\n",
    "raw_text = raw_text.lower()"
   ]
  },
  {
   "cell_type": "code",
   "execution_count": 2,
   "metadata": {},
   "outputs": [
    {
     "data": {
      "text/plain": [
       "'\\ufeffಡಾಕ್ಟರ್ : ಹೇಳಿ ಏನಾಯ್ತು \\nರೋಗಿ : ನಿದ್ರೆ ಬರುದಿಲ್ಲ \\nಡಾಕ್ಟರ್ : ಬಿ. ಪಿ. ಉಂಟಾ \\nರೋಗಿ : ಹಾ  ಉಂಟು \\nಡಾಕ್ಟರ್ : ಏನು  ಪ್ರಾಬ್ಲಮ್ \\nರೋಗಿ : ಸುಮಾರ್  ದಿನದಿಂದ ನಿದ್ರ್ ಬರೋದಿಲ್ಲ \\nಡಾಕ್ಟರ್ : ಟೆನ್ಶನ್  ಮಾಡ್ಕೊಳ್ತೀರಾ \\nರೋಗಿ : ಮೊನ್ನೆ ನಿದ್ರೆ ಬರ್ಲಿಲ್ಲ ನಿನ್ನೆಸ ಇಲ್ಲ \\nಡಾಕ್ಟರ್ : ಬಿ.ಪಿ.  ನೋಡ್ವಾ \\nರೋಗಿ : ಆಯಿತು ಡಾಕ್ಟರ್ \\nಡಾಕ್ಟರ್ : ಬಿ.ಪಿ.  ಸರಿ ಇದೆ, ತೊಂದ್ರೆ ಇಲ್ಲ ಟ್ಯಾಬ್ಲೆಟ್ ಕೊಡ್ತೇನೆ, ತಗೊಳ್ಬೇಕು ಆಯ್ತಾ\\nಡಾಕ್ಟರ್ : ಬೇರೆ ತೊಂದ್ರೆ ಉಂಟಾ ಕೆಮ್ಮು ಶೀತ ಹಾಗೇನಾದ್ರೂ \\nರೋಗಿ : ಇಲ್ಲ ಡಾಕ್ಟರ್ \\nಡಾಕ್ಟರ್ : ಆಯಾಸ ಆಗ್ತದಾ \\nರೋಗಿ : ಇಲ್ಲ \\nಡಾಕ್ಟರ್ : ನಿಮ್ಗೆ ಹೈಪರ್ಟೆನ್ಶನ್ ಆಗಿದೆ  ನಿಫಿಡಿನ್ ಮಾತ್ರೆ ಕೊಡ್ತೇನೆ ದಿನಾಲು ರಾತ್ರಿ ತಗೊಳ್ಳಿ \\nರೋಗಿ : ಆಯ್ತು ಡಾಕ್ಟ್ರೇ \\nಡಾಕ್ಟರ್ : ನಿದ್ರೆ ಸರಿಯಾಗ್ ಬರ್ಲಿಲ್ಲ  ಅಂದ್ರೆ ಮತ್ತೆ ಬನ್ನಿ ಆಯ್ತಾ \\nರೋಗಿ : ಸರಿ ಡಾಕ್ಟರ್ '"
      ]
     },
     "execution_count": 2,
     "metadata": {},
     "output_type": "execute_result"
    }
   ],
   "source": [
    "raw_text"
   ]
  },
  {
   "cell_type": "code",
   "execution_count": 3,
   "metadata": {},
   "outputs": [],
   "source": [
    "# create mapping of unique chars to integers\n",
    "chars = sorted(list(set(raw_text)))\n",
    "char_to_int = dict((c, i) for i, c in enumerate(chars))"
   ]
  },
  {
   "cell_type": "code",
   "execution_count": 4,
   "metadata": {},
   "outputs": [
    {
     "name": "stdout",
     "output_type": "stream",
     "text": [
      "Total Characters:  654\n",
      "Total Vocab:  42\n"
     ]
    }
   ],
   "source": [
    "\n",
    "n_chars = len(raw_text)\n",
    "n_vocab = len(chars)\n",
    "print (\"Total Characters: \", n_chars)\n",
    "print (\"Total Vocab: \", n_vocab)\n"
   ]
  },
  {
   "cell_type": "code",
   "execution_count": 5,
   "metadata": {},
   "outputs": [
    {
     "data": {
      "text/plain": [
       "['\\n',\n",
       " ' ',\n",
       " ',',\n",
       " '.',\n",
       " ':',\n",
       " 'ಂ',\n",
       " 'ಅ',\n",
       " 'ಆ',\n",
       " 'ಇ',\n",
       " 'ಉ',\n",
       " 'ಏ',\n",
       " 'ಕ',\n",
       " 'ಗ',\n",
       " 'ಟ',\n",
       " 'ಡ',\n",
       " 'ತ',\n",
       " 'ದ',\n",
       " 'ನ',\n",
       " 'ಪ',\n",
       " 'ಫ',\n",
       " 'ಬ',\n",
       " 'ಮ',\n",
       " 'ಯ',\n",
       " 'ರ',\n",
       " 'ಲ',\n",
       " 'ಳ',\n",
       " 'ವ',\n",
       " 'ಶ',\n",
       " 'ಸ',\n",
       " 'ಹ',\n",
       " 'ಾ',\n",
       " 'ಿ',\n",
       " 'ೀ',\n",
       " 'ು',\n",
       " 'ೂ',\n",
       " 'ೆ',\n",
       " 'ೇ',\n",
       " 'ೈ',\n",
       " 'ೊ',\n",
       " 'ೋ',\n",
       " '್',\n",
       " '\\ufeff']"
      ]
     },
     "execution_count": 5,
     "metadata": {},
     "output_type": "execute_result"
    }
   ],
   "source": [
    "chars"
   ]
  },
  {
   "cell_type": "code",
   "execution_count": 9,
   "metadata": {},
   "outputs": [
    {
     "name": "stdout",
     "output_type": "stream",
     "text": [
      "Total Patterns:  554\n"
     ]
    }
   ],
   "source": [
    "seq_length = 100\n",
    "dataX = []\n",
    "dataY = []\n",
    "for i in range(0, n_chars - seq_length, 1):\n",
    "\tseq_in = raw_text[i:i + seq_length]\n",
    "\tseq_out = raw_text[i + seq_length]\n",
    "\tdataX.append([char_to_int[char] for char in seq_in])\n",
    "\tdataY.append(char_to_int[seq_out])\n",
    "n_patterns = len(dataX)\n",
    "print (\"Total Patterns: \", n_patterns)"
   ]
  },
  {
   "cell_type": "code",
   "execution_count": 13,
   "metadata": {},
   "outputs": [],
   "source": [
    "# reshape X to be [samples, time steps, features]\n",
    "X = numpy.reshape(dataX, (n_patterns, seq_length, 1))\n",
    "# normalize\n",
    "X = X / float(n_vocab)\n",
    "# one hot encode the output variable\n",
    "y = np_utils.to_categorical(dataY)"
   ]
  },
  {
   "cell_type": "code",
   "execution_count": 14,
   "metadata": {},
   "outputs": [],
   "source": [
    "model = Sequential()\n",
    "model.add(LSTM(256, input_shape=(X.shape[1], X.shape[2])))\n",
    "model.add(Dropout(0.2))\n",
    "model.add(Dense(y.shape[1], activation='softmax'))\n",
    "model.compile(loss='categorical_crossentropy', optimizer='adam')"
   ]
  },
  {
   "cell_type": "code",
   "execution_count": 15,
   "metadata": {},
   "outputs": [],
   "source": [
    "filepath=\"weights-improvement-{epoch:02d}-{loss:.4f}.hdf5\"\n",
    "checkpoint = ModelCheckpoint(filepath, monitor='loss', verbose=1, save_best_only=True, mode='min')\n",
    "callbacks_list = [checkpoint]"
   ]
  },
  {
   "cell_type": "code",
   "execution_count": 16,
   "metadata": {},
   "outputs": [
    {
     "name": "stdout",
     "output_type": "stream",
     "text": [
      "Epoch 1/20\n",
      "554/554 [==============================] - 2s 4ms/step - loss: 3.6845\n",
      "\n",
      "Epoch 00001: loss improved from inf to 3.68449, saving model to weights-improvement-01-3.6845.hdf5\n",
      "Epoch 2/20\n",
      "554/554 [==============================] - 2s 3ms/step - loss: 3.3601\n",
      "\n",
      "Epoch 00002: loss improved from 3.68449 to 3.36006, saving model to weights-improvement-02-3.3601.hdf5\n",
      "Epoch 3/20\n",
      "554/554 [==============================] - 2s 3ms/step - loss: 3.2101\n",
      "\n",
      "Epoch 00003: loss improved from 3.36006 to 3.21014, saving model to weights-improvement-03-3.2101.hdf5\n",
      "Epoch 4/20\n",
      "554/554 [==============================] - 2s 4ms/step - loss: 3.1805\n",
      "\n",
      "Epoch 00004: loss improved from 3.21014 to 3.18049, saving model to weights-improvement-04-3.1805.hdf5\n",
      "Epoch 5/20\n",
      "554/554 [==============================] - 2s 3ms/step - loss: 3.1555\n",
      "\n",
      "Epoch 00005: loss improved from 3.18049 to 3.15552, saving model to weights-improvement-05-3.1555.hdf5\n",
      "Epoch 6/20\n",
      "554/554 [==============================] - 2s 3ms/step - loss: 3.1390\n",
      "\n",
      "Epoch 00006: loss improved from 3.15552 to 3.13899, saving model to weights-improvement-06-3.1390.hdf5\n",
      "Epoch 7/20\n",
      "554/554 [==============================] - 2s 3ms/step - loss: 3.1353\n",
      "\n",
      "Epoch 00007: loss improved from 3.13899 to 3.13533, saving model to weights-improvement-07-3.1353.hdf5\n",
      "Epoch 8/20\n",
      "554/554 [==============================] - 2s 3ms/step - loss: 3.1430\n",
      "\n",
      "Epoch 00008: loss did not improve from 3.13533\n",
      "Epoch 9/20\n",
      "554/554 [==============================] - 2s 3ms/step - loss: 3.1617\n",
      "\n",
      "Epoch 00009: loss did not improve from 3.13533\n",
      "Epoch 10/20\n",
      "554/554 [==============================] - 2s 3ms/step - loss: 3.1499\n",
      "\n",
      "Epoch 00010: loss did not improve from 3.13533\n",
      "Epoch 11/20\n",
      "554/554 [==============================] - 2s 3ms/step - loss: 3.1412\n",
      "\n",
      "Epoch 00011: loss did not improve from 3.13533\n",
      "Epoch 12/20\n",
      "554/554 [==============================] - 2s 3ms/step - loss: 3.1405\n",
      "\n",
      "Epoch 00012: loss did not improve from 3.13533\n",
      "Epoch 13/20\n",
      "554/554 [==============================] - 2s 4ms/step - loss: 3.1393\n",
      "\n",
      "Epoch 00013: loss did not improve from 3.13533\n",
      "Epoch 14/20\n",
      "554/554 [==============================] - 2s 3ms/step - loss: 3.1373\n",
      "\n",
      "Epoch 00014: loss did not improve from 3.13533\n",
      "Epoch 15/20\n",
      "554/554 [==============================] - 2s 4ms/step - loss: 3.1438\n",
      "\n",
      "Epoch 00015: loss did not improve from 3.13533\n",
      "Epoch 16/20\n",
      "554/554 [==============================] - 2s 4ms/step - loss: 3.1274\n",
      "\n",
      "Epoch 00016: loss improved from 3.13533 to 3.12737, saving model to weights-improvement-16-3.1274.hdf5\n",
      "Epoch 17/20\n",
      "554/554 [==============================] - 2s 4ms/step - loss: 3.1323\n",
      "\n",
      "Epoch 00017: loss did not improve from 3.12737\n",
      "Epoch 18/20\n",
      "554/554 [==============================] - 2s 4ms/step - loss: 3.1221\n",
      "\n",
      "Epoch 00018: loss improved from 3.12737 to 3.12210, saving model to weights-improvement-18-3.1221.hdf5\n",
      "Epoch 19/20\n",
      "554/554 [==============================] - 2s 4ms/step - loss: 3.1341\n",
      "\n",
      "Epoch 00019: loss did not improve from 3.12210\n",
      "Epoch 20/20\n",
      "554/554 [==============================] - 2s 4ms/step - loss: 3.1306\n",
      "\n",
      "Epoch 00020: loss did not improve from 3.12210\n"
     ]
    },
    {
     "data": {
      "text/plain": [
       "<keras.callbacks.callbacks.History at 0x1988b170d48>"
      ]
     },
     "execution_count": 16,
     "metadata": {},
     "output_type": "execute_result"
    }
   ],
   "source": [
    "\n",
    "model.fit(X, y, epochs=20, batch_size=128, callbacks=callbacks_list)\n",
    "\n"
   ]
  },
  {
   "cell_type": "code",
   "execution_count": null,
   "metadata": {},
   "outputs": [],
   "source": [
    "filename = \"weights-improvement-19-1.9435.hdf5\"\n",
    "model.load_weights(filename)\n",
    "model.compile(loss='categorical_crossentropy', optimizer='adam')"
   ]
  }
 ],
 "metadata": {
  "kernelspec": {
   "display_name": "Python 3",
   "language": "python",
   "name": "python3"
  },
  "language_info": {
   "codemirror_mode": {
    "name": "ipython",
    "version": 3
   },
   "file_extension": ".py",
   "mimetype": "text/x-python",
   "name": "python",
   "nbconvert_exporter": "python",
   "pygments_lexer": "ipython3",
   "version": "3.7.6"
  }
 },
 "nbformat": 4,
 "nbformat_minor": 4
}
